{
 "cells": [
  {
   "cell_type": "code",
   "execution_count": 49,
   "metadata": {},
   "outputs": [],
   "source": [
    "#!pip freeze > requirements.txt"
   ]
  },
  {
   "cell_type": "code",
   "execution_count": 31,
   "metadata": {},
   "outputs": [],
   "source": [
    "import dill\n",
    "import pandas as pd"
   ]
  },
  {
   "cell_type": "code",
   "execution_count": 32,
   "metadata": {},
   "outputs": [],
   "source": [
    "with open('xgboost.dill', 'rb') as in_strm:\n",
    "    model = dill.load(in_strm)"
   ]
  },
  {
   "cell_type": "code",
   "execution_count": 45,
   "metadata": {},
   "outputs": [],
   "source": [
    "d = {'age': 21914,\n",
    "     'gender__1': 0,\n",
    "     'gender__2': 1,\n",
    "     'height': 169,\n",
    "     'weight': 42,\n",
    "     'weight_height_index': 5.710479,\n",
    "     'ap_hi': 100,\n",
    "     'ap_lo': 100,\n",
    "     'cholesterol__1': 1,\n",
    "     'cholesterol__2': 0,\n",
    "     'cholesterol__3': 0,\n",
    "     'gluc__1': 0,\n",
    "     'gluc__2': 1,\n",
    "     'gluc__3': 0,\n",
    "     'smoke': 1,\n",
    "     'alco': 1,\n",
    "     'active': 1}\n",
    "df = pd.DataFrame(data=d,index=[0])"
   ]
  },
  {
   "cell_type": "code",
   "execution_count": 46,
   "metadata": {},
   "outputs": [
    {
     "data": {
      "text/html": [
       "<div>\n",
       "<style scoped>\n",
       "    .dataframe tbody tr th:only-of-type {\n",
       "        vertical-align: middle;\n",
       "    }\n",
       "\n",
       "    .dataframe tbody tr th {\n",
       "        vertical-align: top;\n",
       "    }\n",
       "\n",
       "    .dataframe thead th {\n",
       "        text-align: right;\n",
       "    }\n",
       "</style>\n",
       "<table border=\"1\" class=\"dataframe\">\n",
       "  <thead>\n",
       "    <tr style=\"text-align: right;\">\n",
       "      <th></th>\n",
       "      <th>age</th>\n",
       "      <th>gender__1</th>\n",
       "      <th>gender__2</th>\n",
       "      <th>height</th>\n",
       "      <th>weight</th>\n",
       "      <th>weight_height_index</th>\n",
       "      <th>ap_hi</th>\n",
       "      <th>ap_lo</th>\n",
       "      <th>cholesterol__1</th>\n",
       "      <th>cholesterol__2</th>\n",
       "      <th>cholesterol__3</th>\n",
       "      <th>gluc__1</th>\n",
       "      <th>gluc__2</th>\n",
       "      <th>gluc__3</th>\n",
       "      <th>smoke</th>\n",
       "      <th>alco</th>\n",
       "      <th>active</th>\n",
       "    </tr>\n",
       "  </thead>\n",
       "  <tbody>\n",
       "    <tr>\n",
       "      <th>0</th>\n",
       "      <td>21914</td>\n",
       "      <td>0</td>\n",
       "      <td>1</td>\n",
       "      <td>169</td>\n",
       "      <td>42</td>\n",
       "      <td>5.710479</td>\n",
       "      <td>100</td>\n",
       "      <td>100</td>\n",
       "      <td>1</td>\n",
       "      <td>0</td>\n",
       "      <td>0</td>\n",
       "      <td>0</td>\n",
       "      <td>1</td>\n",
       "      <td>0</td>\n",
       "      <td>1</td>\n",
       "      <td>1</td>\n",
       "      <td>1</td>\n",
       "    </tr>\n",
       "  </tbody>\n",
       "</table>\n",
       "</div>"
      ],
      "text/plain": [
       "     age  gender__1  gender__2  height  weight  weight_height_index  ap_hi  \\\n",
       "0  21914          0          1     169      42             5.710479    100   \n",
       "\n",
       "   ap_lo  cholesterol__1  cholesterol__2  cholesterol__3  gluc__1  gluc__2  \\\n",
       "0    100               1               0               0        0        1   \n",
       "\n",
       "   gluc__3  smoke  alco  active  \n",
       "0        0      1     1       1  "
      ]
     },
     "execution_count": 46,
     "metadata": {},
     "output_type": "execute_result"
    }
   ],
   "source": [
    "df"
   ]
  },
  {
   "cell_type": "code",
   "execution_count": 47,
   "metadata": {},
   "outputs": [
    {
     "data": {
      "text/plain": [
       "array([0])"
      ]
     },
     "execution_count": 47,
     "metadata": {},
     "output_type": "execute_result"
    }
   ],
   "source": [
    "predicted = model.predict(df)\n",
    "predicted"
   ]
  },
  {
   "cell_type": "code",
   "execution_count": null,
   "metadata": {},
   "outputs": [],
   "source": []
  }
 ],
 "metadata": {
  "kernelspec": {
   "display_name": "Python 3",
   "language": "python",
   "name": "python3"
  },
  "language_info": {
   "codemirror_mode": {
    "name": "ipython",
    "version": 3
   },
   "file_extension": ".py",
   "mimetype": "text/x-python",
   "name": "python",
   "nbconvert_exporter": "python",
   "pygments_lexer": "ipython3",
   "version": "3.8.5"
  }
 },
 "nbformat": 4,
 "nbformat_minor": 4
}
